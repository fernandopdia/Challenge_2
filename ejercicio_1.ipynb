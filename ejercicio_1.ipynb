{
 "cells": [
  {
   "cell_type": "code",
   "execution_count": 43,
   "metadata": {},
   "outputs": [],
   "source": [
    "import requests\n",
    "import json\n",
    "import pprint"
   ]
  },
  {
   "cell_type": "markdown",
   "metadata": {},
   "source": [
    "<h1>SOLUCION 1</h1>\n",
    "<h3>el resultado se muestra en una línea</h3>"
   ]
  },
  {
   "cell_type": "code",
   "execution_count": 44,
   "metadata": {},
   "outputs": [
    {
     "name": "stdout",
     "output_type": "stream",
     "text": [
      "{\"id\":139,\"url\":\"https://www.tvmaze.com/shows/139/girls\",\"name\":\"Girls\",\"type\":\"Scripted\",\"language\":\"English\",\"genres\":[\"Drama\",\"Romance\"],\"status\":\"Ended\",\"runtime\":30,\"averageRuntime\":30,\"premiered\":\"2012-04-15\",\"ended\":\"2017-04-16\",\"officialSite\":\"http://www.hbo.com/girls\",\"schedule\":{\"time\":\"22:00\",\"days\":[\"Sunday\"]},\"rating\":{\"average\":6.5},\"weight\":96,\"network\":{\"id\":8,\"name\":\"HBO\",\"country\":{\"name\":\"United States\",\"code\":\"US\",\"timezone\":\"America/New_York\"},\"officialSite\":\"https://www.hbo.com/\"},\"webChannel\":null,\"dvdCountry\":null,\"externals\":{\"tvrage\":30124,\"thetvdb\":220411,\"imdb\":\"tt1723816\"},\"image\":{\"medium\":\"https://static.tvmaze.com/uploads/images/medium_portrait/31/78286.jpg\",\"original\":\"https://static.tvmaze.com/uploads/images/original_untouched/31/78286.jpg\"},\"summary\":\"<p>This Emmy winning series is a comic look at the assorted humiliations and rare triumphs of a group of girls in their 20s.</p>\",\"updated\":1611310521,\"_links\":{\"self\":{\"href\":\"https://api.tvmaze.com/shows/139\"},\"previousepisode\":{\"href\":\"https://api.tvmaze.com/episodes/1079686\"}}}\n"
     ]
    }
   ],
   "source": [
    "url = \"http://api.tvmaze.com/singlesearch/shows\"\n",
    "params = {\"q\":\"Girls\"}\n",
    "\n",
    "response = requests.get(url, params)\n",
    "\n",
    "if response.status_code == 200:\n",
    "    print(response.text)\n",
    "else:    \n",
    "    print(f\"Error: {response.status_code}\")    "
   ]
  },
  {
   "cell_type": "markdown",
   "metadata": {},
   "source": [
    "<h1> SOLUCION 2<h1>\n",
    "<h3>el resultado muestra en filas la estructura</h3>\n",
    "<h3>de esta manera se pueden identifcar las cabeceras</h3>"
   ]
  },
  {
   "cell_type": "code",
   "execution_count": 45,
   "metadata": {},
   "outputs": [
    {
     "name": "stdout",
     "output_type": "stream",
     "text": [
      "{'_links': {'previousepisode': {'href': 'https://api.tvmaze.com/episodes/1079686'},\n",
      "            'self': {'href': 'https://api.tvmaze.com/shows/139'}},\n",
      " 'averageRuntime': 30,\n",
      " 'dvdCountry': None,\n",
      " 'ended': '2017-04-16',\n",
      " 'externals': {'imdb': 'tt1723816', 'thetvdb': 220411, 'tvrage': 30124},\n",
      " 'genres': ['Drama', 'Romance'],\n",
      " 'id': 139,\n",
      " 'image': {'medium': 'https://static.tvmaze.com/uploads/images/medium_portrait/31/78286.jpg',\n",
      "           'original': 'https://static.tvmaze.com/uploads/images/original_untouched/31/78286.jpg'},\n",
      " 'language': 'English',\n",
      " 'name': 'Girls',\n",
      " 'network': {'country': {'code': 'US',\n",
      "                         'name': 'United States',\n",
      "                         'timezone': 'America/New_York'},\n",
      "             'id': 8,\n",
      "             'name': 'HBO',\n",
      "             'officialSite': 'https://www.hbo.com/'},\n",
      " 'officialSite': 'http://www.hbo.com/girls',\n",
      " 'premiered': '2012-04-15',\n",
      " 'rating': {'average': 6.5},\n",
      " 'runtime': 30,\n",
      " 'schedule': {'days': ['Sunday'], 'time': '22:00'},\n",
      " 'status': 'Ended',\n",
      " 'summary': '<p>This Emmy winning series is a comic look at the assorted '\n",
      "            'humiliations and rare triumphs of a group of girls in their '\n",
      "            '20s.</p>',\n",
      " 'type': 'Scripted',\n",
      " 'updated': 1611310521,\n",
      " 'url': 'https://www.tvmaze.com/shows/139/girls',\n",
      " 'webChannel': None,\n",
      " 'weight': 96}\n",
      "'**********************************************************************************************'\n"
     ]
    }
   ],
   "source": [
    "url = \"http://api.tvmaze.com/singlesearch/shows\"\n",
    "params = {\"q\":\"Girls\"}\n",
    "\n",
    "response = requests.get(url, params)\n",
    "\n",
    "if response.status_code == 200:\n",
    "    data = json.loads(response.text)\n",
    "    pprint.pprint(data)\n",
    "    pprint.pprint(\"**********************************************************************************************\")\n",
    "else:    \n",
    "    print(f\"Error: {response.status_code}\") "
   ]
  },
  {
   "cell_type": "markdown",
   "metadata": {},
   "source": [
    "<h1>TERCER CASO</h1> \n",
    "<h3>para este caso se eligen solo 3 campos para mostrar en la busqueda</h3>\n",
    "<h3>con un diseño de salida</h3>"
   ]
  },
  {
   "cell_type": "code",
   "execution_count": 54,
   "metadata": {},
   "outputs": [
    {
     "name": "stdout",
     "output_type": "stream",
     "text": [
      "The Mentalist premiered on 2008-09-23.\n",
      "<p>Patrick Jane, an independent consultant with the California Bureau of Investigation (CBI), has a remarkable track record for solving serious crimes by using his razor sharp skills of observation. Within the Bureau, Jane is notorious for his blatant lack of protocol and his semi-celebrity past as a psychic medium, whose paranormal abilities he now admits he feigned. No-nonsense Senior Agent Teresa Lisbon openly resists having Jane in her unit and alternates between reluctantly acknowledging Jane's usefulness and blasting him for his theatrics, narcissism, and dangerous lack of boundaries. Lisbon's team includes agents Kimball Cho, Wayne Rigsby and rookie member Grace Van Pelt, who all think Jane's a loose cannon but admire his charm and knack for clearing cases.</p>\n",
      "'**********************************************************************************************'\n"
     ]
    }
   ],
   "source": [
    "url = \"http://api.tvmaze.com/singlesearch/shows\"\n",
    "params = {\"q\":\"The Mentalist\"}\n",
    "\n",
    "response = requests.get(url, params)\n",
    "\n",
    "if response.status_code == 200:\n",
    "    data = json.loads(response.text)\n",
    "\n",
    "    name        = data['name']\n",
    "    premiered   = data['premiered']\n",
    "    summary     = data['summary']\n",
    "\n",
    "    print(f\"{name} premiered on {premiered}.\") \n",
    "    print(summary)\n",
    "\n",
    "    pprint.pprint(\"**********************************************************************************************\")\n",
    "else:    \n",
    "    print(f\"Error: {response.status_code}\") "
   ]
  },
  {
   "cell_type": "markdown",
   "metadata": {},
   "source": [
    "<h1>**********************************************************************************</h1>\n",
    "<h1>SEGUNDO EJEMPLO</h1>"
   ]
  },
  {
   "cell_type": "code",
   "execution_count": null,
   "metadata": {},
   "outputs": [],
   "source": []
  }
 ],
 "metadata": {
  "kernelspec": {
   "display_name": "Python 3",
   "language": "python",
   "name": "python3"
  },
  "language_info": {
   "codemirror_mode": {
    "name": "ipython",
    "version": 3
   },
   "file_extension": ".py",
   "mimetype": "text/x-python",
   "name": "python",
   "nbconvert_exporter": "python",
   "pygments_lexer": "ipython3",
   "version": "3.11.3"
  },
  "orig_nbformat": 4
 },
 "nbformat": 4,
 "nbformat_minor": 2
}
